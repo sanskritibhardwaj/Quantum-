{
 "cells": [
  {
   "cell_type": "code",
   "execution_count": 1,
   "id": "0b176a51-281f-4145-b748-1b51e374d6ec",
   "metadata": {},
   "outputs": [],
   "source": [
    "from qiskit import QuantumCircuit, ClassicalRegister, QuantumRegister, transpile\n",
    "import numpy as np\n",
    "from qiskit_aer import Aer"
   ]
  },
  {
   "cell_type": "code",
   "execution_count": 4,
   "id": "70900257-1618-43d3-9292-3c77d61eca90",
   "metadata": {},
   "outputs": [],
   "source": [
    "def neqr_encoding(image):\n",
    "    \"\"\"\n",
    "    Encode a 2x2 grayscale image into NEQR quantum circuit.\n",
    "    Args:\n",
    "    image: 2x2 numpy array representing grayscale values (0-255).\n",
    "    Returns:\n",
    "    qc: QuantumCircuit with NEQR encoded image.\n",
    "    \"\"\"\n",
    "    n = 2\n",
    "    \n",
    "    position_qubits = QuantumRegister(2 * n, name='pos')\n",
    "    value_qubits = QuantumRegister(8, name='val')  # 8 qubits for 8-bit grayscale\n",
    "    qc = QuantumCircuit(position_qubits, value_qubits)\n",
    "\n",
    "    for i in range(n):\n",
    "        for j in range(n):\n",
    "            if i == 1:\n",
    "                qc.x(position_qubits[0])\n",
    "            if j == 1:\n",
    "                qc.x(position_qubits[1])\n",
    "\n",
    "            pixel_value = image[i, j]\n",
    "            binary_value = f'{pixel_value:08b}'  \n",
    "\n",
    "            for k, bit in enumerate(binary_value):\n",
    "                if bit == '1':\n",
    "                    qc.x(value_qubits[k])\n",
    "\n",
    "            if i == 1:\n",
    "                qc.x(position_qubits[0])\n",
    "            if j == 1:\n",
    "                qc.x(position_qubits[1])\n",
    "\n",
    "    return qc"
   ]
  },
  {
   "cell_type": "code",
   "execution_count": 5,
   "id": "57cf7db5-3cd3-406a-a575-0851320efc43",
   "metadata": {},
   "outputs": [
    {
     "name": "stdout",
     "output_type": "stream",
     "text": [
      "       ┌───┐┌───┐┌───┐┌───┐\n",
      "pos_0: ┤ X ├┤ X ├┤ X ├┤ X ├\n",
      "       ├───┤├───┤├───┤├───┤\n",
      "pos_1: ┤ X ├┤ X ├┤ X ├┤ X ├\n",
      "       └───┘└───┘└───┘└───┘\n",
      "pos_2: ────────────────────\n",
      "                           \n",
      "pos_3: ────────────────────\n",
      "       ┌───┐┌───┐┌───┐     \n",
      "val_0: ┤ X ├┤ X ├┤ X ├─────\n",
      "       ├───┤├───┤└───┘     \n",
      "val_1: ┤ X ├┤ X ├──────────\n",
      "       ├───┤└───┘          \n",
      "val_2: ┤ X ├───────────────\n",
      "       ├───┤               \n",
      "val_3: ┤ X ├───────────────\n",
      "       ├───┤               \n",
      "val_4: ┤ X ├───────────────\n",
      "       ├───┤               \n",
      "val_5: ┤ X ├───────────────\n",
      "       ├───┤               \n",
      "val_6: ┤ X ├───────────────\n",
      "       ├───┤               \n",
      "val_7: ┤ X ├───────────────\n",
      "       └───┘               \n",
      "            \n",
      "pos_0: ─────\n",
      "            \n",
      "pos_1: ─────\n",
      "            \n",
      "pos_2: ─────\n",
      "            \n",
      "pos_3: ─────\n",
      "       ┌───┐\n",
      "val_0: ┤ X ├\n",
      "       └───┘\n",
      "val_1: ─────\n",
      "       ┌───┐\n",
      "val_2: ┤ X ├\n",
      "       ├───┤\n",
      "val_3: ┤ X ├\n",
      "       ├───┤\n",
      "val_4: ┤ X ├\n",
      "       ├───┤\n",
      "val_5: ┤ X ├\n",
      "       ├───┤\n",
      "val_6: ┤ X ├\n",
      "       ├───┤\n",
      "val_7: ┤ X ├\n",
      "       └───┘\n"
     ]
    }
   ],
   "source": [
    "image = np.array([[0, 128], [192, 255]])\n",
    "\n",
    "qc = neqr_encoding(image)\n",
    "\n",
    "print(qc)\n",
    "\n",
    "backend = Aer.get_backend('qasm_simulator')\n",
    "transpiled_qc = transpile(qc, backend)\n",
    "\n",
    "print(transpiled_qc)"
   ]
  },
  {
   "cell_type": "code",
   "execution_count": null,
   "id": "76da4441-cc6c-442b-84b3-01ecb99cd546",
   "metadata": {},
   "outputs": [],
   "source": []
  }
 ],
 "metadata": {
  "kernelspec": {
   "display_name": "Python 3 (ipykernel)",
   "language": "python",
   "name": "python3"
  },
  "language_info": {
   "codemirror_mode": {
    "name": "ipython",
    "version": 3
   },
   "file_extension": ".py",
   "mimetype": "text/x-python",
   "name": "python",
   "nbconvert_exporter": "python",
   "pygments_lexer": "ipython3",
   "version": "3.11.9"
  }
 },
 "nbformat": 4,
 "nbformat_minor": 5
}
