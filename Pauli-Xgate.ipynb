{
 "cells": [
  {
   "cell_type": "code",
   "execution_count": null,
   "id": "5cfb9967-43c0-4fe9-98a4-91dfe49dbdf6",
   "metadata": {},
   "outputs": [],
   "source": [
    "import numpy as np\n",
    "\n",
    "# Define the Pauli-X gate\n",
    "X = np.array([[0, 1],\n",
    "              [1, 0]])\n",
    "\n",
    "# Function to return the R_y(theta) matrix\n",
    "def R_y(theta):\n",
    "    return np.array([[np.cos(theta / 2), -np.sin(theta / 2)],\n",
    "                     [np.sin(theta / 2), np.cos(theta / 2)]])\n",
    "\n",
    "# Define theta (angle in radians)\n",
    "theta = np.pi / 4  # 45 degrees, for example\n",
    "\n",
    "# Calculate X * R_y(theta) * X\n",
    "result = X @ R_y(theta) @ X\n",
    "\n",
    "# Calculate R_y(-theta) for comparison\n",
    "expected_result = R_y(-theta)\n",
    "\n",
    "# Print the results\n",
    "print(\"X * R_y(theta) * X =\\n\", result)\n",
    "print(\"\\nR_y(-theta) =\\n\", expected_result)\n",
    "\n",
    "# Verify if they are equal\n",
    "if np.allclose(result, expected_result):\n",
    "    print(\"\\nThe matrices are equal, so X is the correct gate Q.\")\n",
    "else:\n",
    "    print(\"\\nThe matrices are not equal.\")\n"
   ]
  },
  {
   "cell_type": "code",
   "execution_count": null,
   "id": "0e51c72e-b52a-46a7-99ab-fe9ba0bffaa2",
   "metadata": {},
   "outputs": [],
   "source": []
  }
 ],
 "metadata": {
  "kernelspec": {
   "display_name": "Python 3 (ipykernel)",
   "language": "python",
   "name": "python3"
  },
  "language_info": {
   "codemirror_mode": {
    "name": "ipython",
    "version": 3
   },
   "file_extension": ".py",
   "mimetype": "text/x-python",
   "name": "python",
   "nbconvert_exporter": "python",
   "pygments_lexer": "ipython3",
   "version": "3.11.9"
  }
 },
 "nbformat": 4,
 "nbformat_minor": 5
}
