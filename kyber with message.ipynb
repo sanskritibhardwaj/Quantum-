{
 "cells": [
  {
   "cell_type": "code",
   "execution_count": 1,
   "id": "a9c36bd2-e4fd-4527-aeae-f952e864b2da",
   "metadata": {},
   "outputs": [
    {
     "name": "stdout",
     "output_type": "stream",
     "text": [
      "Ciphertext: 1be4bd1ec35288b64feaeeb238341b397c0ec64081a86aaa88eaafc1fb745341d6186c00f09916e8cc18687c570faa01d9511a22dfd1ca6fa00eba058094ce31e3460d249726e0e8c2f79f787440c1aa60b4e79323066cc1e3bda7c367006a0ec935249acbc94bbfd9b9739285a9e6eae7dc7486b25199d926b8ffe778b8b34e4fe7feb141abb48b190614acef6c42958c8d86f6ea97a0dc8823350f40ff722f94b93995b1aeee0817e23fbe24cc11bbef5ab7c00b8fb5c8c1756c3c94b48ab810aa88ae0043583b747f377e7570aeaf5400ef7d92f4aa9f3a2aa4db2bae9fc56a8e3839f55341882c8198c8943a0db3844258a63e99870a1cd0115f1ddacae9\n",
      "Input Message: HI, MY NAME IS SANSKRITI\n",
      "Ciphertext: 1be4bd1ec35288b64feaeeb238341b397c0ec64081a86aaa88eaafc1fb745341d6186c00f09916e8cc18687c570faa01d9511a22dfd1ca6fa00eba058094ce31e3460d249726e0e8c2f79f787440c1aa60b4e79323066cc1e3bda7c367006a0ec935249acbc94bbfd9b9739285a9e6eae7dc7486b25199d926b8ffe778b8b34e4fe7feb141abb48b190614acef6c42958c8d86f6ea97a0dc8823350f40ff722f94b93995b1aeee0817e23fbe24cc11bbef5ab7c00b8fb5c8c1756c3c94b48ab810aa88ae0043583b747f377e7570aeaf5400ef7d92f4aa9f3a2aa4db2bae9fc56a8e3839f55341882c8198c8943a0db3844258a63e99870a1cd0115f1ddacae9\n",
      "Shared Key (Sender): b93cfc45ff398fac5544be85cfb2bac2eebab73e5dc7fefcaec2afd82071ff24\n",
      "Shared Key (Receiver): b93cfc45ff398fac5544be85cfb2bac2eebab73e5dc7fefcaec2afd82071ff24\n",
      "Key Match: True\n"
     ]
    }
   ],
   "source": [
    "from cryptography.hazmat.primitives.kdf.hkdf import HKDF\n",
    "from cryptography.hazmat.backends import default_backend\n",
    "from cryptography.hazmat.primitives import hashes\n",
    "from cryptography.hazmat.primitives.kdf.pbkdf2 import PBKDF2HMAC\n",
    "from cryptography.hazmat.primitives import serialization\n",
    "from cryptography.hazmat.primitives.asymmetric import rsa, padding\n",
    "from cryptography.hazmat.primitives.ciphers import Cipher, algorithms, modes\n",
    "import os\n",
    "\n",
    "# Input message\n",
    "message = b\"HI, MY NAME IS SANSKRITI\"\n",
    "\n",
    "# Generate RSA keys for encryption (as a Kyber substitute)\n",
    "private_key = rsa.generate_private_key(\n",
    "    public_exponent=65537,\n",
    "    key_size=2048,\n",
    "    backend=default_backend()\n",
    ")\n",
    "public_key = private_key.public_key()\n",
    "\n",
    "# Encrypt the message to simulate ciphertext generation\n",
    "ciphertext = public_key.encrypt(\n",
    "    message,\n",
    "    padding.OAEP(\n",
    "        mgf=padding.MGF1(algorithm=hashes.SHA256()),\n",
    "        algorithm=hashes.SHA256(),\n",
    "        label=None\n",
    "    )\n",
    ")\n",
    "\n",
    "# Display the ciphertext\n",
    "print(\"Ciphertext:\", ciphertext.hex())\n",
    "\n",
    "# Derive shared key using HKDF for both sender and receiver\n",
    "salt = os.urandom(16)  # Random salt\n",
    "backend = default_backend()\n",
    "\n",
    "# Sender's side shared key derivation\n",
    "hkdf_sender = HKDF(\n",
    "    algorithm=hashes.SHA256(),\n",
    "    length=32,\n",
    "    salt=salt,\n",
    "    info=b\"handshake data\",\n",
    "    backend=backend\n",
    ")\n",
    "shared_key_sender = hkdf_sender.derive(ciphertext)\n",
    "\n",
    "# Receiver decrypts the message\n",
    "decrypted_message = private_key.decrypt(\n",
    "    ciphertext,\n",
    "    padding.OAEP(\n",
    "        mgf=padding.MGF1(algorithm=hashes.SHA256()),\n",
    "        algorithm=hashes.SHA256(),\n",
    "        label=None\n",
    "    )\n",
    ")\n",
    "\n",
    "# Receiver's side shared key derivation\n",
    "hkdf_receiver = HKDF(\n",
    "    algorithm=hashes.SHA256(),\n",
    "    length=32,\n",
    "    salt=salt,\n",
    "    info=b\"handshake data\",\n",
    "    backend=backend\n",
    ")\n",
    "shared_key_receiver = hkdf_receiver.derive(ciphertext)\n",
    "\n",
    "# Show the result\n",
    "print(\"Input Message:\", message.decode())\n",
    "print(\"Ciphertext:\", ciphertext.hex())\n",
    "print(\"Shared Key (Sender):\", shared_key_sender.hex())\n",
    "print(\"Shared Key (Receiver):\", shared_key_receiver.hex())\n",
    "print(\"Key Match:\", shared_key_sender == shared_key_receiver)\n"
   ]
  },
  {
   "cell_type": "code",
   "execution_count": null,
   "id": "f30f14f2-7421-4767-8b8d-9e5a21b374c3",
   "metadata": {},
   "outputs": [],
   "source": []
  }
 ],
 "metadata": {
  "kernelspec": {
   "display_name": "Python 3 (ipykernel)",
   "language": "python",
   "name": "python3"
  },
  "language_info": {
   "codemirror_mode": {
    "name": "ipython",
    "version": 3
   },
   "file_extension": ".py",
   "mimetype": "text/x-python",
   "name": "python",
   "nbconvert_exporter": "python",
   "pygments_lexer": "ipython3",
   "version": "3.11.9"
  }
 },
 "nbformat": 4,
 "nbformat_minor": 5
}
