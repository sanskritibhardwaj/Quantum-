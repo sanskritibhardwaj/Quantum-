{
 "cells": [
  {
   "cell_type": "code",
   "execution_count": 2,
   "id": "f42ffa27-b289-4259-af28-211f903b9780",
   "metadata": {},
   "outputs": [],
   "source": [
    "import numpy as np\n",
    "from qiskit import QuantumRegister, ClassicalRegister, QuantumCircuit\n",
    "import qiskit as qk\n",
    "from qiskit import QuantumCircuit\n",
    "from qiskit_aer import Aer\n",
    "from qiskit import transpile, assemble\n",
    "# from qiskit.tools.jupyter import *\n",
    "from qiskit.visualization import plot_histogram\n",
    "from qiskit.quantum_info import Statevector\n",
    "from math import pi"
   ]
  },
  {
   "cell_type": "code",
   "execution_count": 16,
   "id": "7e9d4697-8b13-4f0a-ae76-5e5024b14d94",
   "metadata": {},
   "outputs": [
    {
     "data": {
      "text/html": [
       "<pre style=\"word-wrap: normal;white-space: pre;background: #fff0;line-height: 1.1;font-family: &quot;Courier New&quot;,Courier,monospace\">       \n",
       " pv_0: \n",
       "       \n",
       " pv_1: \n",
       "       \n",
       " pv_2: \n",
       "       \n",
       "pos_0: \n",
       "       \n",
       "pos_1: \n",
       "       \n",
       " c1: 2/\n",
       "       </pre>"
      ],
      "text/plain": [
       "       \n",
       " pv_0: \n",
       "       \n",
       " pv_1: \n",
       "       \n",
       " pv_2: \n",
       "       \n",
       "pos_0: \n",
       "       \n",
       "pos_1: \n",
       "       \n",
       " c1: 2/\n",
       "       "
      ]
     },
     "execution_count": 16,
     "metadata": {},
     "output_type": "execute_result"
    }
   ],
   "source": [
    "qr=QuantumRegister(3,'pv')\n",
    "qr1=QuantumRegister(2,'pos')\n",
    "cr=ClassicalRegister(2)\n",
    "qc=QuantumCircuit(qr,qr1,cr)\n",
    "qc.draw()"
   ]
  },
  {
   "cell_type": "code",
   "execution_count": 15,
   "id": "e014a77b-2266-4267-957e-f10e0709050d",
   "metadata": {},
   "outputs": [
    {
     "data": {
      "text/html": [
       "<pre style=\"word-wrap: normal;white-space: pre;background: #fff0;line-height: 1.1;font-family: &quot;Courier New&quot;,Courier,monospace\">                  ┌───┐           ░                      ░      ┌───┐          »\n",
       "  pv_0: ──────────┤ X ├───────────░──────────────────────░──────┤ X ├──────────»\n",
       "                  └─┬─┘           ░      ┌───┐           ░      └─┬─┘┌───┐     »\n",
       "  pv_1: ────────────┼─────────────░──────┤ X ├───────────░────────┼──┤ X ├─────»\n",
       "                    │  ┌───┐      ░      └─┬─┘┌───┐      ░        │  └─┬─┘┌───┐»\n",
       "  pv_2: ────────────┼──┤ X ├──────░────────┼──┤ X ├──────░────────┼────┼──┤ X ├»\n",
       "        ┌───┐┌───┐  │  └─┬─┘┌───┐ ░        │  └─┬─┘      ░ ┌───┐  │    │  └─┬─┘»\n",
       " pos_0: ┤ H ├┤ X ├──■────■──┤ X ├─░────────■────■────────░─┤ X ├──■────■────■──»\n",
       "        ├───┤├───┤  │    │  ├───┤ ░ ┌───┐  │    │  ┌───┐ ░ └───┘  │    │    │  »\n",
       " pos_1: ┤ H ├┤ X ├──■────■──┤ X ├─░─┤ X ├──■────■──┤ X ├─░────────■────■────■──»\n",
       "        └───┘└───┘          └───┘ ░ └───┘          └───┘ ░                     »\n",
       "  c0: 2/═══════════════════════════════════════════════════════════════════════»\n",
       "                                                                               »\n",
       "meas: 5/═══════════════════════════════════════════════════════════════════════»\n",
       "                                                                               »\n",
       "«              ░ ┌───┐ ░ ┌───┐ ░  ░ ┌─┐             statevector ┌───┐      ░ \n",
       "«  pv_0: ──────░─┤ I ├─░─┤ I ├─░──░─┤M├──────────────────░──────┤ I ├──────░─\n",
       "«              ░ ├───┤ ░ ├───┤ ░  ░ └╥┘┌─┐               ░      ├───┤      ░ \n",
       "«  pv_1: ──────░─┤ I ├─░─┤ I ├─░──░──╫─┤M├───────────────░──────┤ I ├──────░─\n",
       "«              ░ ├───┤ ░ ├───┤ ░  ░  ║ └╥┘┌─┐            ░      ├───┤      ░ \n",
       "«  pv_2: ──────░─┤ I ├─░─┤ I ├─░──░──╫──╫─┤M├────────────░──────┤ I ├──────░─\n",
       "«        ┌───┐ ░ └───┘ ░ └───┘ ░  ░  ║  ║ └╥┘┌─┐         ░      ├───┤┌───┐ ░ \n",
       "« pos_0: ┤ X ├─░───────░───────░──░──╫──╫──╫─┤M├─────────░──────┤ H ├┤ H ├─░─\n",
       "«        └───┘ ░       ░       ░  ░  ║  ║  ║ └╥┘┌─┐      ░      ├───┤├───┤ ░ \n",
       "« pos_1: ──────░───────░───────░──░──╫──╫──╫──╫─┤M├──────░──────┤ H ├┤ H ├─░─\n",
       "«              ░       ░       ░  ░  ║  ║  ║  ║ └╥┘      ░      └───┘└───┘ ░ \n",
       "«  c0: 2/════════════════════════════╬══╬══╬══╬══╬═══════════════════════════\n",
       "«                                    ║  ║  ║  ║  ║                           \n",
       "«meas: 5/════════════════════════════╩══╩══╩══╩══╩═══════════════════════════\n",
       "«                                    0  1  2  3  4                           </pre>"
      ],
      "text/plain": [
       "                  ┌───┐           ░                      ░      ┌───┐          »\n",
       "  pv_0: ──────────┤ X ├───────────░──────────────────────░──────┤ X ├──────────»\n",
       "                  └─┬─┘           ░      ┌───┐           ░      └─┬─┘┌───┐     »\n",
       "  pv_1: ────────────┼─────────────░──────┤ X ├───────────░────────┼──┤ X ├─────»\n",
       "                    │  ┌───┐      ░      └─┬─┘┌───┐      ░        │  └─┬─┘┌───┐»\n",
       "  pv_2: ────────────┼──┤ X ├──────░────────┼──┤ X ├──────░────────┼────┼──┤ X ├»\n",
       "        ┌───┐┌───┐  │  └─┬─┘┌───┐ ░        │  └─┬─┘      ░ ┌───┐  │    │  └─┬─┘»\n",
       " pos_0: ┤ H ├┤ X ├──■────■──┤ X ├─░────────■────■────────░─┤ X ├──■────■────■──»\n",
       "        ├───┤├───┤  │    │  ├───┤ ░ ┌───┐  │    │  ┌───┐ ░ └───┘  │    │    │  »\n",
       " pos_1: ┤ H ├┤ X ├──■────■──┤ X ├─░─┤ X ├──■────■──┤ X ├─░────────■────■────■──»\n",
       "        └───┘└───┘          └───┘ ░ └───┘          └───┘ ░                     »\n",
       "  c0: 2/═══════════════════════════════════════════════════════════════════════»\n",
       "                                                                               »\n",
       "meas: 5/═══════════════════════════════════════════════════════════════════════»\n",
       "                                                                               »\n",
       "«              ░ ┌───┐ ░ ┌───┐ ░  ░ ┌─┐             statevector ┌───┐      ░ \n",
       "«  pv_0: ──────░─┤ I ├─░─┤ I ├─░──░─┤M├──────────────────░──────┤ I ├──────░─\n",
       "«              ░ ├───┤ ░ ├───┤ ░  ░ └╥┘┌─┐               ░      ├───┤      ░ \n",
       "«  pv_1: ──────░─┤ I ├─░─┤ I ├─░──░──╫─┤M├───────────────░──────┤ I ├──────░─\n",
       "«              ░ ├───┤ ░ ├───┤ ░  ░  ║ └╥┘┌─┐            ░      ├───┤      ░ \n",
       "«  pv_2: ──────░─┤ I ├─░─┤ I ├─░──░──╫──╫─┤M├────────────░──────┤ I ├──────░─\n",
       "«        ┌───┐ ░ └───┘ ░ └───┘ ░  ░  ║  ║ └╥┘┌─┐         ░      ├───┤┌───┐ ░ \n",
       "« pos_0: ┤ X ├─░───────░───────░──░──╫──╫──╫─┤M├─────────░──────┤ H ├┤ H ├─░─\n",
       "«        └───┘ ░       ░       ░  ░  ║  ║  ║ └╥┘┌─┐      ░      ├───┤├───┤ ░ \n",
       "« pos_1: ──────░───────░───────░──░──╫──╫──╫──╫─┤M├──────░──────┤ H ├┤ H ├─░─\n",
       "«              ░       ░       ░  ░  ║  ║  ║  ║ └╥┘      ░      └───┘└───┘ ░ \n",
       "«  c0: 2/════════════════════════════╬══╬══╬══╬══╬═══════════════════════════\n",
       "«                                    ║  ║  ║  ║  ║                           \n",
       "«meas: 5/════════════════════════════╩══╩══╩══╩══╩═══════════════════════════\n",
       "«                                    0  1  2  3  4                           "
      ]
     },
     "execution_count": 15,
     "metadata": {},
     "output_type": "execute_result"
    }
   ],
   "source": [
    "\n",
    "#Setting position value\n",
    "qc.h(4)\n",
    "qc.h(3)\n",
    "for k in range(3):\n",
    "    qc.id(k)\n",
    "qc.barrier()\n",
    "qc.draw()"
   ]
  },
  {
   "cell_type": "code",
   "execution_count": 5,
   "id": "9b424331-d951-457f-8b14-e9c4adb27d5c",
   "metadata": {},
   "outputs": [
    {
     "data": {
      "text/html": [
       "<pre style=\"word-wrap: normal;white-space: pre;background: #fff0;line-height: 1.1;font-family: &quot;Courier New&quot;,Courier,monospace\">                 ┌───┐           ░ \n",
       " pv_0: ──────────┤ X ├───────────░─\n",
       "                 └─┬─┘           ░ \n",
       " pv_1: ────────────┼─────────────░─\n",
       "                   │  ┌───┐      ░ \n",
       " pv_2: ────────────┼──┤ X ├──────░─\n",
       "       ┌───┐┌───┐  │  └─┬─┘┌───┐ ░ \n",
       "pos_0: ┤ H ├┤ X ├──■────■──┤ X ├─░─\n",
       "       ├───┤├───┤  │    │  ├───┤ ░ \n",
       "pos_1: ┤ H ├┤ X ├──■────■──┤ X ├─░─\n",
       "       └───┘└───┘          └───┘ ░ \n",
       " c0: 2/════════════════════════════\n",
       "                                   </pre>"
      ],
      "text/plain": [
       "                 ┌───┐           ░ \n",
       " pv_0: ──────────┤ X ├───────────░─\n",
       "                 └─┬─┘           ░ \n",
       " pv_1: ────────────┼─────────────░─\n",
       "                   │  ┌───┐      ░ \n",
       " pv_2: ────────────┼──┤ X ├──────░─\n",
       "       ┌───┐┌───┐  │  └─┬─┘┌───┐ ░ \n",
       "pos_0: ┤ H ├┤ X ├──■────■──┤ X ├─░─\n",
       "       ├───┤├───┤  │    │  ├───┤ ░ \n",
       "pos_1: ┤ H ├┤ X ├──■────■──┤ X ├─░─\n",
       "       └───┘└───┘          └───┘ ░ \n",
       " c0: 2/════════════════════════════\n",
       "                                   "
      ]
     },
     "execution_count": 5,
     "metadata": {},
     "output_type": "execute_result"
    }
   ],
   "source": [
    "#pixel1\n",
    "qc.x(3)\n",
    "qc.x(4)\n",
    "qc.ccx(3,4,0)\n",
    "qc.ccx(3,4,2)\n",
    "qc.x(3)\n",
    "qc.x(4)\n",
    "qc.barrier()\n",
    "qc.draw()"
   ]
  },
  {
   "cell_type": "code",
   "execution_count": 6,
   "id": "d5a1515a-ef8a-4672-9916-1f14d05aba87",
   "metadata": {},
   "outputs": [
    {
     "data": {
      "text/html": [
       "<pre style=\"word-wrap: normal;white-space: pre;background: #fff0;line-height: 1.1;font-family: &quot;Courier New&quot;,Courier,monospace\">                 ┌───┐           ░                      ░ \n",
       " pv_0: ──────────┤ X ├───────────░──────────────────────░─\n",
       "                 └─┬─┘           ░      ┌───┐           ░ \n",
       " pv_1: ────────────┼─────────────░──────┤ X ├───────────░─\n",
       "                   │  ┌───┐      ░      └─┬─┘┌───┐      ░ \n",
       " pv_2: ────────────┼──┤ X ├──────░────────┼──┤ X ├──────░─\n",
       "       ┌───┐┌───┐  │  └─┬─┘┌───┐ ░        │  └─┬─┘      ░ \n",
       "pos_0: ┤ H ├┤ X ├──■────■──┤ X ├─░────────■────■────────░─\n",
       "       ├───┤├───┤  │    │  ├───┤ ░ ┌───┐  │    │  ┌───┐ ░ \n",
       "pos_1: ┤ H ├┤ X ├──■────■──┤ X ├─░─┤ X ├──■────■──┤ X ├─░─\n",
       "       └───┘└───┘          └───┘ ░ └───┘          └───┘ ░ \n",
       " c0: 2/═══════════════════════════════════════════════════\n",
       "                                                          </pre>"
      ],
      "text/plain": [
       "                 ┌───┐           ░                      ░ \n",
       " pv_0: ──────────┤ X ├───────────░──────────────────────░─\n",
       "                 └─┬─┘           ░      ┌───┐           ░ \n",
       " pv_1: ────────────┼─────────────░──────┤ X ├───────────░─\n",
       "                   │  ┌───┐      ░      └─┬─┘┌───┐      ░ \n",
       " pv_2: ────────────┼──┤ X ├──────░────────┼──┤ X ├──────░─\n",
       "       ┌───┐┌───┐  │  └─┬─┘┌───┐ ░        │  └─┬─┘      ░ \n",
       "pos_0: ┤ H ├┤ X ├──■────■──┤ X ├─░────────■────■────────░─\n",
       "       ├───┤├───┤  │    │  ├───┤ ░ ┌───┐  │    │  ┌───┐ ░ \n",
       "pos_1: ┤ H ├┤ X ├──■────■──┤ X ├─░─┤ X ├──■────■──┤ X ├─░─\n",
       "       └───┘└───┘          └───┘ ░ └───┘          └───┘ ░ \n",
       " c0: 2/═══════════════════════════════════════════════════\n",
       "                                                          "
      ]
     },
     "execution_count": 6,
     "metadata": {},
     "output_type": "execute_result"
    }
   ],
   "source": [
    "#pixel2\n",
    "qc.x(4)\n",
    "qc.ccx(3,4,1)\n",
    "qc.ccx(3,4,2)\n",
    "qc.x(4)\n",
    "qc.barrier()\n",
    "qc.draw()"
   ]
  },
  {
   "cell_type": "code",
   "execution_count": 7,
   "id": "784f7733-dca4-46fe-b0a3-4d126749314e",
   "metadata": {},
   "outputs": [
    {
     "data": {
      "text/html": [
       "<pre style=\"word-wrap: normal;white-space: pre;background: #fff0;line-height: 1.1;font-family: &quot;Courier New&quot;,Courier,monospace\">                 ┌───┐           ░                      ░      ┌───┐          »\n",
       " pv_0: ──────────┤ X ├───────────░──────────────────────░──────┤ X ├──────────»\n",
       "                 └─┬─┘           ░      ┌───┐           ░      └─┬─┘┌───┐     »\n",
       " pv_1: ────────────┼─────────────░──────┤ X ├───────────░────────┼──┤ X ├─────»\n",
       "                   │  ┌───┐      ░      └─┬─┘┌───┐      ░        │  └─┬─┘┌───┐»\n",
       " pv_2: ────────────┼──┤ X ├──────░────────┼──┤ X ├──────░────────┼────┼──┤ X ├»\n",
       "       ┌───┐┌───┐  │  └─┬─┘┌───┐ ░        │  └─┬─┘      ░ ┌───┐  │    │  └─┬─┘»\n",
       "pos_0: ┤ H ├┤ X ├──■────■──┤ X ├─░────────■────■────────░─┤ X ├──■────■────■──»\n",
       "       ├───┤├───┤  │    │  ├───┤ ░ ┌───┐  │    │  ┌───┐ ░ └───┘  │    │    │  »\n",
       "pos_1: ┤ H ├┤ X ├──■────■──┤ X ├─░─┤ X ├──■────■──┤ X ├─░────────■────■────■──»\n",
       "       └───┘└───┘          └───┘ ░ └───┘          └───┘ ░                     »\n",
       " c0: 2/═══════════════════════════════════════════════════════════════════════»\n",
       "                                                                              »\n",
       "«             ░ \n",
       "« pv_0: ──────░─\n",
       "«             ░ \n",
       "« pv_1: ──────░─\n",
       "«             ░ \n",
       "« pv_2: ──────░─\n",
       "«       ┌───┐ ░ \n",
       "«pos_0: ┤ X ├─░─\n",
       "«       └───┘ ░ \n",
       "«pos_1: ──────░─\n",
       "«             ░ \n",
       "« c0: 2/════════\n",
       "«               </pre>"
      ],
      "text/plain": [
       "                 ┌───┐           ░                      ░      ┌───┐          »\n",
       " pv_0: ──────────┤ X ├───────────░──────────────────────░──────┤ X ├──────────»\n",
       "                 └─┬─┘           ░      ┌───┐           ░      └─┬─┘┌───┐     »\n",
       " pv_1: ────────────┼─────────────░──────┤ X ├───────────░────────┼──┤ X ├─────»\n",
       "                   │  ┌───┐      ░      └─┬─┘┌───┐      ░        │  └─┬─┘┌───┐»\n",
       " pv_2: ────────────┼──┤ X ├──────░────────┼──┤ X ├──────░────────┼────┼──┤ X ├»\n",
       "       ┌───┐┌───┐  │  └─┬─┘┌───┐ ░        │  └─┬─┘      ░ ┌───┐  │    │  └─┬─┘»\n",
       "pos_0: ┤ H ├┤ X ├──■────■──┤ X ├─░────────■────■────────░─┤ X ├──■────■────■──»\n",
       "       ├───┤├───┤  │    │  ├───┤ ░ ┌───┐  │    │  ┌───┐ ░ └───┘  │    │    │  »\n",
       "pos_1: ┤ H ├┤ X ├──■────■──┤ X ├─░─┤ X ├──■────■──┤ X ├─░────────■────■────■──»\n",
       "       └───┘└───┘          └───┘ ░ └───┘          └───┘ ░                     »\n",
       " c0: 2/═══════════════════════════════════════════════════════════════════════»\n",
       "                                                                              »\n",
       "«             ░ \n",
       "« pv_0: ──────░─\n",
       "«             ░ \n",
       "« pv_1: ──────░─\n",
       "«             ░ \n",
       "« pv_2: ──────░─\n",
       "«       ┌───┐ ░ \n",
       "«pos_0: ┤ X ├─░─\n",
       "«       └───┘ ░ \n",
       "«pos_1: ──────░─\n",
       "«             ░ \n",
       "« c0: 2/════════\n",
       "«               "
      ]
     },
     "execution_count": 7,
     "metadata": {},
     "output_type": "execute_result"
    }
   ],
   "source": [
    "#pixel3\n",
    "qc.x(3)\n",
    "qc.ccx(3,4,0)\n",
    "qc.ccx(3,4,1)\n",
    "qc.ccx(3,4,2)\n",
    "qc.x(3)\n",
    "qc.barrier()\n",
    "qc.draw()"
   ]
  },
  {
   "cell_type": "code",
   "execution_count": 10,
   "id": "63283b9e-82e3-4d6f-aa6e-bcf60f1d0446",
   "metadata": {},
   "outputs": [
    {
     "data": {
      "text/html": [
       "<pre style=\"word-wrap: normal;white-space: pre;background: #fff0;line-height: 1.1;font-family: &quot;Courier New&quot;,Courier,monospace\">                 ┌───┐           ░                      ░      ┌───┐          »\n",
       " pv_0: ──────────┤ X ├───────────░──────────────────────░──────┤ X ├──────────»\n",
       "                 └─┬─┘           ░      ┌───┐           ░      └─┬─┘┌───┐     »\n",
       " pv_1: ────────────┼─────────────░──────┤ X ├───────────░────────┼──┤ X ├─────»\n",
       "                   │  ┌───┐      ░      └─┬─┘┌───┐      ░        │  └─┬─┘┌───┐»\n",
       " pv_2: ────────────┼──┤ X ├──────░────────┼──┤ X ├──────░────────┼────┼──┤ X ├»\n",
       "       ┌───┐┌───┐  │  └─┬─┘┌───┐ ░        │  └─┬─┘      ░ ┌───┐  │    │  └─┬─┘»\n",
       "pos_0: ┤ H ├┤ X ├──■────■──┤ X ├─░────────■────■────────░─┤ X ├──■────■────■──»\n",
       "       ├───┤├───┤  │    │  ├───┤ ░ ┌───┐  │    │  ┌───┐ ░ └───┘  │    │    │  »\n",
       "pos_1: ┤ H ├┤ X ├──■────■──┤ X ├─░─┤ X ├──■────■──┤ X ├─░────────■────■────■──»\n",
       "       └───┘└───┘          └───┘ ░ └───┘          └───┘ ░                     »\n",
       " c0: 2/═══════════════════════════════════════════════════════════════════════»\n",
       "                                                                              »\n",
       "«             ░ ┌───┐ ░ ┌───┐ ░ \n",
       "« pv_0: ──────░─┤ I ├─░─┤ I ├─░─\n",
       "«             ░ ├───┤ ░ ├───┤ ░ \n",
       "« pv_1: ──────░─┤ I ├─░─┤ I ├─░─\n",
       "«             ░ ├───┤ ░ ├───┤ ░ \n",
       "« pv_2: ──────░─┤ I ├─░─┤ I ├─░─\n",
       "«       ┌───┐ ░ └───┘ ░ └───┘ ░ \n",
       "«pos_0: ┤ X ├─░───────░───────░─\n",
       "«       └───┘ ░       ░       ░ \n",
       "«pos_1: ──────░───────░───────░─\n",
       "«             ░       ░       ░ \n",
       "« c0: 2/════════════════════════\n",
       "«                               </pre>"
      ],
      "text/plain": [
       "                 ┌───┐           ░                      ░      ┌───┐          »\n",
       " pv_0: ──────────┤ X ├───────────░──────────────────────░──────┤ X ├──────────»\n",
       "                 └─┬─┘           ░      ┌───┐           ░      └─┬─┘┌───┐     »\n",
       " pv_1: ────────────┼─────────────░──────┤ X ├───────────░────────┼──┤ X ├─────»\n",
       "                   │  ┌───┐      ░      └─┬─┘┌───┐      ░        │  └─┬─┘┌───┐»\n",
       " pv_2: ────────────┼──┤ X ├──────░────────┼──┤ X ├──────░────────┼────┼──┤ X ├»\n",
       "       ┌───┐┌───┐  │  └─┬─┘┌───┐ ░        │  └─┬─┘      ░ ┌───┐  │    │  └─┬─┘»\n",
       "pos_0: ┤ H ├┤ X ├──■────■──┤ X ├─░────────■────■────────░─┤ X ├──■────■────■──»\n",
       "       ├───┤├───┤  │    │  ├───┤ ░ ┌───┐  │    │  ┌───┐ ░ └───┘  │    │    │  »\n",
       "pos_1: ┤ H ├┤ X ├──■────■──┤ X ├─░─┤ X ├──■────■──┤ X ├─░────────■────■────■──»\n",
       "       └───┘└───┘          └───┘ ░ └───┘          └───┘ ░                     »\n",
       " c0: 2/═══════════════════════════════════════════════════════════════════════»\n",
       "                                                                              »\n",
       "«             ░ ┌───┐ ░ ┌───┐ ░ \n",
       "« pv_0: ──────░─┤ I ├─░─┤ I ├─░─\n",
       "«             ░ ├───┤ ░ ├───┤ ░ \n",
       "« pv_1: ──────░─┤ I ├─░─┤ I ├─░─\n",
       "«             ░ ├───┤ ░ ├───┤ ░ \n",
       "« pv_2: ──────░─┤ I ├─░─┤ I ├─░─\n",
       "«       ┌───┐ ░ └───┘ ░ └───┘ ░ \n",
       "«pos_0: ┤ X ├─░───────░───────░─\n",
       "«       └───┘ ░       ░       ░ \n",
       "«pos_1: ──────░───────░───────░─\n",
       "«             ░       ░       ░ \n",
       "« c0: 2/════════════════════════\n",
       "«                               "
      ]
     },
     "execution_count": 10,
     "metadata": {},
     "output_type": "execute_result"
    }
   ],
   "source": [
    "#pixel4\n",
    "for k in range(3):\n",
    "    qc.id(k)\n",
    "qc.barrier()\n",
    "qc.draw()"
   ]
  },
  {
   "cell_type": "code",
   "execution_count": 11,
   "id": "1652a35a-6442-4066-91d2-0f94e5b15d70",
   "metadata": {},
   "outputs": [
    {
     "data": {
      "text/html": [
       "<pre style=\"word-wrap: normal;white-space: pre;background: #fff0;line-height: 1.1;font-family: &quot;Courier New&quot;,Courier,monospace\">                  ┌───┐           ░                      ░      ┌───┐          »\n",
       "  pv_0: ──────────┤ X ├───────────░──────────────────────░──────┤ X ├──────────»\n",
       "                  └─┬─┘           ░      ┌───┐           ░      └─┬─┘┌───┐     »\n",
       "  pv_1: ────────────┼─────────────░──────┤ X ├───────────░────────┼──┤ X ├─────»\n",
       "                    │  ┌───┐      ░      └─┬─┘┌───┐      ░        │  └─┬─┘┌───┐»\n",
       "  pv_2: ────────────┼──┤ X ├──────░────────┼──┤ X ├──────░────────┼────┼──┤ X ├»\n",
       "        ┌───┐┌───┐  │  └─┬─┘┌───┐ ░        │  └─┬─┘      ░ ┌───┐  │    │  └─┬─┘»\n",
       " pos_0: ┤ H ├┤ X ├──■────■──┤ X ├─░────────■────■────────░─┤ X ├──■────■────■──»\n",
       "        ├───┤├───┤  │    │  ├───┤ ░ ┌───┐  │    │  ┌───┐ ░ └───┘  │    │    │  »\n",
       " pos_1: ┤ H ├┤ X ├──■────■──┤ X ├─░─┤ X ├──■────■──┤ X ├─░────────■────■────■──»\n",
       "        └───┘└───┘          └───┘ ░ └───┘          └───┘ ░                     »\n",
       "  c0: 2/═══════════════════════════════════════════════════════════════════════»\n",
       "                                                                               »\n",
       "meas: 5/═══════════════════════════════════════════════════════════════════════»\n",
       "                                                                               »\n",
       "«              ░ ┌───┐ ░ ┌───┐ ░  ░ ┌─┐            \n",
       "«  pv_0: ──────░─┤ I ├─░─┤ I ├─░──░─┤M├────────────\n",
       "«              ░ ├───┤ ░ ├───┤ ░  ░ └╥┘┌─┐         \n",
       "«  pv_1: ──────░─┤ I ├─░─┤ I ├─░──░──╫─┤M├─────────\n",
       "«              ░ ├───┤ ░ ├───┤ ░  ░  ║ └╥┘┌─┐      \n",
       "«  pv_2: ──────░─┤ I ├─░─┤ I ├─░──░──╫──╫─┤M├──────\n",
       "«        ┌───┐ ░ └───┘ ░ └───┘ ░  ░  ║  ║ └╥┘┌─┐   \n",
       "« pos_0: ┤ X ├─░───────░───────░──░──╫──╫──╫─┤M├───\n",
       "«        └───┘ ░       ░       ░  ░  ║  ║  ║ └╥┘┌─┐\n",
       "« pos_1: ──────░───────░───────░──░──╫──╫──╫──╫─┤M├\n",
       "«              ░       ░       ░  ░  ║  ║  ║  ║ └╥┘\n",
       "«  c0: 2/════════════════════════════╬══╬══╬══╬══╬═\n",
       "«                                    ║  ║  ║  ║  ║ \n",
       "«meas: 5/════════════════════════════╩══╩══╩══╩══╩═\n",
       "«                                    0  1  2  3  4 </pre>"
      ],
      "text/plain": [
       "                  ┌───┐           ░                      ░      ┌───┐          »\n",
       "  pv_0: ──────────┤ X ├───────────░──────────────────────░──────┤ X ├──────────»\n",
       "                  └─┬─┘           ░      ┌───┐           ░      └─┬─┘┌───┐     »\n",
       "  pv_1: ────────────┼─────────────░──────┤ X ├───────────░────────┼──┤ X ├─────»\n",
       "                    │  ┌───┐      ░      └─┬─┘┌───┐      ░        │  └─┬─┘┌───┐»\n",
       "  pv_2: ────────────┼──┤ X ├──────░────────┼──┤ X ├──────░────────┼────┼──┤ X ├»\n",
       "        ┌───┐┌───┐  │  └─┬─┘┌───┐ ░        │  └─┬─┘      ░ ┌───┐  │    │  └─┬─┘»\n",
       " pos_0: ┤ H ├┤ X ├──■────■──┤ X ├─░────────■────■────────░─┤ X ├──■────■────■──»\n",
       "        ├───┤├───┤  │    │  ├───┤ ░ ┌───┐  │    │  ┌───┐ ░ └───┘  │    │    │  »\n",
       " pos_1: ┤ H ├┤ X ├──■────■──┤ X ├─░─┤ X ├──■────■──┤ X ├─░────────■────■────■──»\n",
       "        └───┘└───┘          └───┘ ░ └───┘          └───┘ ░                     »\n",
       "  c0: 2/═══════════════════════════════════════════════════════════════════════»\n",
       "                                                                               »\n",
       "meas: 5/═══════════════════════════════════════════════════════════════════════»\n",
       "                                                                               »\n",
       "«              ░ ┌───┐ ░ ┌───┐ ░  ░ ┌─┐            \n",
       "«  pv_0: ──────░─┤ I ├─░─┤ I ├─░──░─┤M├────────────\n",
       "«              ░ ├───┤ ░ ├───┤ ░  ░ └╥┘┌─┐         \n",
       "«  pv_1: ──────░─┤ I ├─░─┤ I ├─░──░──╫─┤M├─────────\n",
       "«              ░ ├───┤ ░ ├───┤ ░  ░  ║ └╥┘┌─┐      \n",
       "«  pv_2: ──────░─┤ I ├─░─┤ I ├─░──░──╫──╫─┤M├──────\n",
       "«        ┌───┐ ░ └───┘ ░ └───┘ ░  ░  ║  ║ └╥┘┌─┐   \n",
       "« pos_0: ┤ X ├─░───────░───────░──░──╫──╫──╫─┤M├───\n",
       "«        └───┘ ░       ░       ░  ░  ║  ║  ║ └╥┘┌─┐\n",
       "« pos_1: ──────░───────░───────░──░──╫──╫──╫──╫─┤M├\n",
       "«              ░       ░       ░  ░  ║  ║  ║  ║ └╥┘\n",
       "«  c0: 2/════════════════════════════╬══╬══╬══╬══╬═\n",
       "«                                    ║  ║  ║  ║  ║ \n",
       "«meas: 5/════════════════════════════╩══╩══╩══╩══╩═\n",
       "«                                    0  1  2  3  4 "
      ]
     },
     "execution_count": 11,
     "metadata": {},
     "output_type": "execute_result"
    }
   ],
   "source": [
    "qc.measure_all()\n",
    "qc.draw()"
   ]
  },
  {
   "cell_type": "code",
   "execution_count": 12,
   "id": "586a914f-2974-48f3-b892-cc91ce06c8cd",
   "metadata": {},
   "outputs": [
    {
     "name": "stdout",
     "output_type": "stream",
     "text": [
      "{'10111 00': 2234, '11000 00': 2220, '00101 00': 2173, '01110 00': 2285}\n"
     ]
    },
    {
     "data": {
      "image/png": "[encoded data removed]",
      "text/plain": [
       "<Figure size 640x480 with 1 Axes>"
      ]
     },
     "execution_count": 12,
     "metadata": {},
     "output_type": "execute_result"
    }
   ],
   "source": [
    "#Running on simulator\n",
    "aer_sim=Aer.get_backend('aer_simulator')\n",
    "qc.save_statevector()\n",
    "t_qc=transpile(qc,aer_sim)\n",
    "job=aer_sim.run(t_qc, shots=8912)\n",
    "result=job.result()\n",
    "counts=result.get_counts()\n",
    "print(counts)\n",
    "plot_histogram(counts)"
   ]
  },
  {
   "cell_type": "code",
   "execution_count": 13,
   "id": "36754eda-b9c1-4db3-8552-ba0a4fd4f0e8",
   "metadata": {},
   "outputs": [
    {
     "name": "stdout",
     "output_type": "stream",
     "text": [
      "Circuit dimensions\n",
      "Circuit depth:  80\n",
      "Circuit size:  126\n"
     ]
    },
    {
     "data": {
      "text/plain": [
       "OrderedDict([('cx', 42),\n",
       "             ('t', 28),\n",
       "             ('tdg', 21),\n",
       "             ('h', 14),\n",
       "             ('u3', 8),\n",
       "             ('barrier', 6),\n",
       "             ('id', 6),\n",
       "             ('measure', 5),\n",
       "             ('u2', 2),\n",
       "             ('save_statevector', 1)])"
      ]
     },
     "execution_count": 13,
     "metadata": {},
     "output_type": "execute_result"
    }
   ],
   "source": [
    "#circuitanalysis\n",
    "print('Circuit dimensions')\n",
    "print('Circuit depth: ',qc.decompose().depth())\n",
    "print('Circuit size: ',qc.decompose().size())\n",
    "qc.decompose().count_ops()"
   ]
  },
  {
   "cell_type": "code",
   "execution_count": null,
   "id": "3e60431c-f2b7-4fa0-aedd-7bb689b04a8d",
   "metadata": {},
   "outputs": [],
   "source": []
  }
 ],
 "metadata": {
  "kernelspec": {
   "display_name": "Python 3 (ipykernel)",
   "language": "python",
   "name": "python3"
  },
  "language_info": {
   "codemirror_mode": {
    "name": "ipython",
    "version": 3
   },
   "file_extension": ".py",
   "mimetype": "text/x-python",
   "name": "python",
   "nbconvert_exporter": "python",
   "pygments_lexer": "ipython3",
   "version": "3.11.9"
  }
 },
 "nbformat": 4,
 "nbformat_minor": 5
}
