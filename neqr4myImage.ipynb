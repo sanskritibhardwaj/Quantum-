{
 "cells": [
  {
   "cell_type": "code",
   "execution_count": 24,
   "id": "2a1e4656-909c-49f1-8c78-12af04fd319f",
   "metadata": {
    "scrolled": true
   },
   "outputs": [
    {
     "name": "stdout",
     "output_type": "stream",
     "text": [
      "Processed Image:\n",
      " [[112  44  40  95]\n",
      " [139  89  81 126]\n",
      " [ 90  78  77  83]\n",
      " [ 66  87 101  72]]\n",
      "Quantum Circuit:\n",
      "             ┌─┐                                          \n",
      " q2_0: ─────┤M├──────────────────────────────────────────\n",
      "            └╥┘┌─┐                                       \n",
      " q2_1: ──────╫─┤M├───────────────────────────────────────\n",
      "             ║ └╥┘┌─┐                                    \n",
      " q2_2: ──────╫──╫─┤M├────────────────────────────────────\n",
      "             ║  ║ └╥┘┌─┐                                 \n",
      " q2_3: ──────╫──╫──╫─┤M├─────────────────────────────────\n",
      "       ┌───┐ ║  ║  ║ └╥┘                              ┌─┐\n",
      " q2_4: ┤ X ├─╫──╫──╫──╫───────────────────────────────┤M├\n",
      "       └┬─┬┘ ║  ║  ║  ║                               └╥┘\n",
      " q2_5: ─┤M├──╫──╫──╫──╫────────────────────────────────╫─\n",
      "        └╥┘  ║  ║  ║  ║ ┌─┐                            ║ \n",
      " q2_6: ──╫───╫──╫──╫──╫─┤M├────────────────────────────╫─\n",
      "         ║   ║  ║  ║  ║ └╥┘┌─┐                         ║ \n",
      " q2_7: ──╫───╫──╫──╫──╫──╫─┤M├─────────────────────────╫─\n",
      "         ║   ║  ║  ║  ║  ║ └╥┘┌─┐                      ║ \n",
      " q2_8: ──╫───╫──╫──╫──╫──╫──╫─┤M├──────────────────────╫─\n",
      "         ║   ║  ║  ║  ║  ║  ║ └╥┘┌─┐                   ║ \n",
      " q2_9: ──╫───╫──╫──╫──╫──╫──╫──╫─┤M├───────────────────╫─\n",
      "         ║   ║  ║  ║  ║  ║  ║  ║ └╥┘┌─┐                ║ \n",
      "q2_10: ──╫───╫──╫──╫──╫──╫──╫──╫──╫─┤M├────────────────╫─\n",
      "         ║   ║  ║  ║  ║  ║  ║  ║  ║ └╥┘┌─┐             ║ \n",
      "q2_11: ──╫───╫──╫──╫──╫──╫──╫──╫──╫──╫─┤M├─────────────╫─\n",
      "         ║   ║  ║  ║  ║  ║  ║  ║  ║  ║ └╥┘┌─┐          ║ \n",
      "q2_12: ──╫───╫──╫──╫──╫──╫──╫──╫──╫──╫──╫─┤M├──────────╫─\n",
      "         ║   ║  ║  ║  ║  ║  ║  ║  ║  ║  ║ └╥┘┌─┐       ║ \n",
      "q2_13: ──╫───╫──╫──╫──╫──╫──╫──╫──╫──╫──╫──╫─┤M├───────╫─\n",
      "         ║   ║  ║  ║  ║  ║  ║  ║  ║  ║  ║  ║ └╥┘┌─┐    ║ \n",
      "q2_14: ──╫───╫──╫──╫──╫──╫──╫──╫──╫──╫──╫──╫──╫─┤M├────╫─\n",
      "         ║   ║  ║  ║  ║  ║  ║  ║  ║  ║  ║  ║  ║ └╥┘┌─┐ ║ \n",
      "q2_15: ──╫───╫──╫──╫──╫──╫──╫──╫──╫──╫──╫──╫──╫──╫─┤M├─╫─\n",
      "         ║   ║  ║  ║  ║  ║  ║  ║  ║  ║  ║  ║  ║  ║ └╥┘ ║ \n",
      "c1: 16/══╩═══╩══╩══╩══╩══╩══╩══╩══╩══╩══╩══╩══╩══╩══╩══╩═\n",
      "         5   0  1  2  3  6  7  8  9  10 11 12 13 14 15 4 \n",
      "Quantum Circuit Output:\n",
      " {'0000000000010000': 1024}\n"
     ]
    },
    {
     "data": {
      "image/png": "[encoded data removed]",
      "text/plain": [
       "<Figure size 640x480 with 1 Axes>"
      ]
     },
     "metadata": {},
     "output_type": "display_data"
    }
   ],
   "source": [
    "from qiskit import QuantumCircuit, QuantumRegister, ClassicalRegister, transpile\n",
    "from qiskit_aer import AerSimulator\n",
    "import numpy as np\n",
    "from PIL import Image\n",
    "from qiskit.visualization import plot_histogram\n",
    "import matplotlib.pyplot as plt  \n",
    "\n",
    "%matplotlib inline\n",
    "\n",
    "def load_and_preprocess_image(image_path, target_size=(4, 4)):\n",
    "    img = Image.open(image_path).convert('L')  # Convert to grayscale\n",
    "    img = img.resize(target_size)  # Resize to target dimensions\n",
    "    img_array = np.array(img)  # Convert to numpy array\n",
    "    return img_array\n",
    "\n",
    "def neqr_encoding(image_array):\n",
    "    # This function should create a quantum circuit based on the image_array\n",
    "    num_qubits = image_array.size\n",
    "    qr = QuantumRegister(num_qubits)\n",
    "    cr = ClassicalRegister(num_qubits)\n",
    "    qc = QuantumCircuit(qr, cr)\n",
    "\n",
    "    for i, value in enumerate(image_array.flatten()):\n",
    "        if value > 127:  \n",
    "            qc.x(qr[i])\n",
    "\n",
    "    qc.measure(qr, cr)  \n",
    "    return qc\n",
    "\n",
    "image_path = r'D:\\6m_NIC\\images\\castleInterior.jpeg'  \n",
    "image = load_and_preprocess_image(image_path, target_size=(4, 4))\n",
    "print(\"Processed Image:\\n\", image)\n",
    "\n",
    "qc = neqr_encoding(image)\n",
    "\n",
    "print(\"Quantum Circuit:\\n\", qc)\n",
    "\n",
    "backend = AerSimulator()\n",
    "transpiled_qc = transpile(qc, backend)\n",
    "\n",
    "result = backend.run(transpiled_qc, shots=1024).result()  # Use a reasonable number of shots\n",
    "\n",
    "try:\n",
    "    counts = result.get_counts(transpiled_qc)\n",
    "    print(\"Quantum Circuit Output:\\n\", counts)\n",
    "    \n",
    "    plot_histogram(counts)\n",
    "except Exception as e:\n",
    "    print(\"Error fetching counts:\", e)"
   ]
  },
  {
   "cell_type": "code",
   "execution_count": null,
   "id": "5b3dade2-e2ad-410b-87bf-2f51ccc5f020",
   "metadata": {},
   "outputs": [],
   "source": []
  }
 ],
 "metadata": {
  "kernelspec": {
   "display_name": "Python 3 (ipykernel)",
   "language": "python",
   "name": "python3"
  },
  "language_info": {
   "codemirror_mode": {
    "name": "ipython",
    "version": 3
   },
   "file_extension": ".py",
   "mimetype": "text/x-python",
   "name": "python",
   "nbconvert_exporter": "python",
   "pygments_lexer": "ipython3",
   "version": "3.11.9"
  }
 },
 "nbformat": 4,
 "nbformat_minor": 5
}
