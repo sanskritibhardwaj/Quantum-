{
 "cells": [
  {
   "cell_type": "code",
   "execution_count": null,
   "id": "15cce133-e9cb-4f81-91a7-74f3579ab0a9",
   "metadata": {},
   "outputs": [],
   "source": [
    "import numpy as np\n",
    "import cv2\n",
    "from numpy.fft import fft2, ifft2\n",
    "\n",
    "# Load the image\n",
    "image = cv2.imread(\"D:\\\\6m_NIC\\\\images\\\\trees.jpg\")\n",
    "\n",
    "# Resize the original image for better display\n",
    "resized_image = cv2.resize(image, (800, 600))  # Adjust dimensions as needed\n",
    "\n",
    "# Convert to grayscale\n",
    "gray_image = cv2.cvtColor(resized_image, cv2.COLOR_BGR2GRAY)\n",
    "\n",
    "# Apply FRQI with a larger mask\n",
    "dft = fft2(gray_image)\n",
    "dft_shift = np.fft.fftshift(dft)\n",
    "\n",
    "# Create a larger mask\n",
    "rows, cols = gray_image.shape\n",
    "crow, ccol = int(rows/2), int(cols/2)\n",
    "mask = np.zeros((rows, cols), np.uint8)\n",
    "mask[crow-30:crow+30, ccol-30:ccol+30] = 1\n",
    "dft_shift_filtered = dft_shift * mask\n",
    "\n",
    "# Inverse shift and inverse DFT\n",
    "dft_filtered = np.fft.ifftshift(dft_shift_filtered)\n",
    "img_back = ifft2(dft_filtered)\n",
    "img_back = np.abs(img_back)\n",
    "\n",
    "# Convert to 8-bit unsigned integer for Canny\n",
    "img_back_8u = cv2.convertScaleAbs(img_back)\n",
    "\n",
    "# Enhance edges (optional)\n",
    "edges = cv2.Canny(img_back_8u, 50, 150)  # Adjust thresholds as needed\n",
    "\n",
    "# Display the original and edge-detected images\n",
    "cv2.imshow('Original Image', resized_image)\n",
    "cv2.imshow('Edge Detected Image', edges)\n",
    "cv2.waitKey(0)\n",
    "cv2.destroyAllWindows()"
   ]
  },
  {
   "cell_type": "code",
   "execution_count": null,
   "id": "b3850597-ea1a-4694-ba17-285e4cf336ca",
   "metadata": {},
   "outputs": [],
   "source": []
  }
 ],
 "metadata": {
  "kernelspec": {
   "display_name": "Python 3 (ipykernel)",
   "language": "python",
   "name": "python3"
  },
  "language_info": {
   "codemirror_mode": {
    "name": "ipython",
    "version": 3
   },
   "file_extension": ".py",
   "mimetype": "text/x-python",
   "name": "python",
   "nbconvert_exporter": "python",
   "pygments_lexer": "ipython3",
   "version": "3.11.9"
  }
 },
 "nbformat": 4,
 "nbformat_minor": 5
}
